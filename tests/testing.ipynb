{
 "cells": [
  {
   "cell_type": "code",
   "execution_count": 5,
   "metadata": {},
   "outputs": [],
   "source": [
    "import pandas as pd\n",
    "from yahoo_oauth import OAuth2\n",
    "import yahoo_fantasy_api as yfa\n",
    "from pathlib import Path\n",
    "creds = Path(r'C:\\Users\\massi\\Projects\\YahooFantasyTools\\config\\creds.json')\n",
    "sc = OAuth2(None,None,from_file = creds)"
   ]
  },
  {
   "cell_type": "code",
   "execution_count": 18,
   "metadata": {},
   "outputs": [],
   "source": [
    "gm = yfa.Game(sc,'nba')\n",
    "gm.league_ids(year='2021')\n",
    "lg = gm.to_league('410.l.95911')\n",
    "tm = lg.to_team('410.l.95911.t.1')"
   ]
  },
  {
   "cell_type": "code",
   "execution_count": 28,
   "metadata": {},
   "outputs": [
    {
     "data": {
      "text/plain": [
       "<yahoo_fantasy_api.team.Team at 0x27fde7b3340>"
      ]
     },
     "execution_count": 28,
     "metadata": {},
     "output_type": "execute_result"
    }
   ],
   "source": [
    "lg.to_team('410.l.95911.t.1')"
   ]
  },
  {
   "cell_type": "code",
   "execution_count": 40,
   "metadata": {},
   "outputs": [
    {
     "data": {
      "text/plain": [
       "{'team_key': '410.l.95911.t.1',\n",
       " 'team_id': '1',\n",
       " 'name': 'American Communist Party',\n",
       " 'is_owned_by_current_login': 1,\n",
       " 'url': 'https://basketball.fantasysports.yahoo.com/nba/95911/1',\n",
       " 'team_logos': [{'team_logo': {'size': 'large',\n",
       "    'url': 'https://yahoofantasysports-res.cloudinary.com/image/upload/t_s192sq/fantasy-logos/0ab549d3fe731151425b571a6783fccc8c1374d7a960f296c46b04c046a2cb91.jpg'}}],\n",
       " 'waiver_priority': 4,\n",
       " 'number_of_moves': '6',\n",
       " 'number_of_trades': 0,\n",
       " 'roster_adds': {'coverage_type': 'week', 'coverage_value': 5, 'value': '0'},\n",
       " 'league_scoring_type': 'headpoint',\n",
       " 'draft_position': 6,\n",
       " 'has_draft_grade': 0,\n",
       " 'managers': [{'manager': {'manager_id': '1',\n",
       "    'nickname': 'Massimo',\n",
       "    'guid': 'GAAJW6YOLDOJYWQXAT3GZUGPLA',\n",
       "    'is_commissioner': '1',\n",
       "    'is_current_login': '1',\n",
       "    'email': 'massimo6274@gmail.com',\n",
       "    'image_url': 'https://s.yimg.com/ag/images/default_user_profile_pic_64sq.jpg',\n",
       "    'felo_score': '595',\n",
       "    'felo_tier': 'bronze'}}]}"
      ]
     },
     "execution_count": 40,
     "metadata": {},
     "output_type": "execute_result"
    }
   ],
   "source": [
    "lg.teams()['410.l.95911.t.1']"
   ]
  },
  {
   "cell_type": "code",
   "execution_count": 39,
   "metadata": {},
   "outputs": [
    {
     "name": "stdout",
     "output_type": "stream",
     "text": [
      "{'team_key': '410.l.95911.t.6', 'team_id': '6', 'name': 'Accounting rules', 'url': 'https://basketball.fantasysports.yahoo.com/nba/95911/6', 'team_logos': [{'team_logo': {'size': 'large', 'url': 'https://yahoofantasysports-res.cloudinary.com/image/upload/t_s192sq/fantasy-logos/4d097fd40bfead10fe0d3a920e3cb1c57d845328aa21e5d20cfc7afc73fa7bcc.jpg'}}], 'waiver_priority': 6, 'number_of_moves': '9', 'number_of_trades': 0, 'roster_adds': {'coverage_type': 'week', 'coverage_value': 5, 'value': '0'}, 'league_scoring_type': 'headpoint', 'draft_position': 4, 'has_draft_grade': 0, 'managers': [{'manager': {'manager_id': '6', 'nickname': 'Jack', 'guid': 'OAE7UU6ZH5E4IQN62WA3EYOJNI', 'email': 'rybakman36@yahoo.com', 'image_url': 'https://s.yimg.com/ag/images/default_user_profile_pic_64sq.jpg', 'felo_score': '578', 'felo_tier': 'bronze'}}]}\n",
      "{'team_key': '410.l.95911.t.4', 'team_id': '4', 'name': 'Handsome Men', 'url': 'https://basketball.fantasysports.yahoo.com/nba/95911/4', 'team_logos': [{'team_logo': {'size': 'large', 'url': 'https://yahoofantasysports-res.cloudinary.com/image/upload/t_s192sq/fantasy-logos/59601756862_5e021a.jpg'}}], 'waiver_priority': 7, 'number_of_moves': '6', 'number_of_trades': 0, 'roster_adds': {'coverage_type': 'week', 'coverage_value': 5, 'value': '0'}, 'league_scoring_type': 'headpoint', 'draft_position': 10, 'has_draft_grade': 0, 'managers': [{'manager': {'manager_id': '4', 'nickname': 'Matthew', 'guid': 'YQ5WOFX26RCEBGMPN4ZLGMSSPY', 'image_url': 'https://s.yimg.com/ag/images/default_user_profile_pic_64sq.jpg', 'felo_score': '684', 'felo_tier': 'silver'}}]}\n",
      "{'team_key': '410.l.95911.t.8', 'team_id': '8', 'name': 'Steph Boyardee', 'url': 'https://basketball.fantasysports.yahoo.com/nba/95911/8', 'team_logos': [{'team_logo': {'size': 'large', 'url': 'https://s.yimg.com/cv/apiv2/default/nba/nba_1_m.png'}}], 'waiver_priority': 10, 'number_of_moves': '8', 'number_of_trades': 0, 'roster_adds': {'coverage_type': 'week', 'coverage_value': 5, 'value': '0'}, 'league_scoring_type': 'headpoint', 'draft_position': 5, 'has_draft_grade': 0, 'managers': [{'manager': {'manager_id': '8', 'nickname': 'Mike', 'guid': 'HL5Q4ZVIVXTAYCLQQ3Q4RMTOPE', 'email': 'mch2@live.com', 'image_url': 'https://s.yimg.com/ag/images/default_user_profile_pic_64sq.jpg', 'felo_score': '599', 'felo_tier': 'bronze'}}]}\n",
      "{'team_key': '410.l.95911.t.5', 'team_id': '5', 'name': 'Meatball Extreme', 'url': 'https://basketball.fantasysports.yahoo.com/nba/95911/5', 'team_logos': [{'team_logo': {'size': 'large', 'url': 'https://yahoofantasysports-res.cloudinary.com/image/upload/t_s192sq/fantasy-logos/8f89e0293f1ea7ffeb5793313881c759ab9e7a9b391d2186cec12f9d7e058fc5.png'}}], 'waiver_priority': 9, 'number_of_moves': '41', 'number_of_trades': '1', 'roster_adds': {'coverage_type': 'week', 'coverage_value': 5, 'value': '1'}, 'league_scoring_type': 'headpoint', 'draft_position': 9, 'has_draft_grade': 0, 'managers': [{'manager': {'manager_id': '5', 'nickname': 'Trevor', 'guid': 'M63GSMCDU2VKEZNBZVWOJS3P5A', 'email': 'Tward391@gmail.com', 'image_url': 'https://s.yimg.com/ag/images/default_user_profile_pic_64sq.jpg', 'felo_score': '897', 'felo_tier': 'platinum'}}]}\n",
      "{'team_key': '410.l.95911.t.1', 'team_id': '1', 'name': 'American Communist Party', 'is_owned_by_current_login': 1, 'url': 'https://basketball.fantasysports.yahoo.com/nba/95911/1', 'team_logos': [{'team_logo': {'size': 'large', 'url': 'https://yahoofantasysports-res.cloudinary.com/image/upload/t_s192sq/fantasy-logos/0ab549d3fe731151425b571a6783fccc8c1374d7a960f296c46b04c046a2cb91.jpg'}}], 'waiver_priority': 4, 'number_of_moves': '6', 'number_of_trades': 0, 'roster_adds': {'coverage_type': 'week', 'coverage_value': 5, 'value': '0'}, 'league_scoring_type': 'headpoint', 'draft_position': 6, 'has_draft_grade': 0, 'managers': [{'manager': {'manager_id': '1', 'nickname': 'Massimo', 'guid': 'GAAJW6YOLDOJYWQXAT3GZUGPLA', 'is_commissioner': '1', 'is_current_login': '1', 'email': 'massimo6274@gmail.com', 'image_url': 'https://s.yimg.com/ag/images/default_user_profile_pic_64sq.jpg', 'felo_score': '595', 'felo_tier': 'bronze'}}]}\n",
      "{'team_key': '410.l.95911.t.10', 'team_id': '10', 'name': 'Z-Bo’s Loud Pack', 'url': 'https://basketball.fantasysports.yahoo.com/nba/95911/10', 'team_logos': [{'team_logo': {'size': 'large', 'url': 'https://yahoofantasysports-res.cloudinary.com/image/upload/t_s192sq/fantasy-logos/f061ea2e5fdabc5297615e1ef9427a90906176e51cd0244a40f399bad7c575ee.jpg'}}], 'waiver_priority': 5, 'number_of_moves': '7', 'number_of_trades': 0, 'roster_adds': {'coverage_type': 'week', 'coverage_value': 5, 'value': '0'}, 'league_scoring_type': 'headpoint', 'draft_position': 1, 'has_draft_grade': 0, 'managers': [{'manager': {'manager_id': '10', 'nickname': 'Anthony', 'guid': '3QCG7T2SD4LW2FF35U4PALRVLU', 'email': 'abrocone@gmail.com', 'image_url': 'https://s.yimg.com/ag/images/default_user_profile_pic_64sq.jpg', 'felo_score': '596', 'felo_tier': 'bronze'}}]}\n",
      "{'team_key': '410.l.95911.t.2', 'team_id': '2', 'name': 'Ugly Men', 'url': 'https://basketball.fantasysports.yahoo.com/nba/95911/2', 'team_logos': [{'team_logo': {'size': 'large', 'url': 'https://s.yimg.com/cv/apiv2/default/nba/nba_12_p.png'}}], 'waiver_priority': 8, 'number_of_moves': '5', 'number_of_trades': 0, 'roster_adds': {'coverage_type': 'week', 'coverage_value': 5, 'value': '1'}, 'league_scoring_type': 'headpoint', 'draft_position': 2, 'has_draft_grade': 0, 'managers': [{'manager': {'manager_id': '2', 'nickname': 'Matthew', 'guid': 'BTJ3CWTQAJEMOPKZ5OEYVYJBL4', 'image_url': 'https://s.yimg.com/ag/images/default_user_profile_pic_64sq.jpg', 'felo_score': '683', 'felo_tier': 'silver'}}]}\n",
      "{'team_key': '410.l.95911.t.7', 'team_id': '7', 'name': 'Boy Stink', 'url': 'https://basketball.fantasysports.yahoo.com/nba/95911/7', 'team_logos': [{'team_logo': {'size': 'large', 'url': 'https://s.yimg.com/cv/apiv2/default/nba/nba_1_c.png'}}], 'waiver_priority': 3, 'number_of_moves': '8', 'number_of_trades': 0, 'roster_adds': {'coverage_type': 'week', 'coverage_value': 5, 'value': '1'}, 'league_scoring_type': 'headpoint', 'draft_position': 3, 'has_draft_grade': 0, 'managers': [{'manager': {'manager_id': '7', 'nickname': 'Connor', 'guid': '56J2LLSCRSWBTZWR6CUNRM2VQY', 'email': 'cward0812@gmail.com', 'image_url': 'https://s.yimg.com/ag/images/default_user_profile_pic_64sq.jpg', 'felo_score': '753', 'felo_tier': 'gold'}}]}\n",
      "{'team_key': '410.l.95911.t.9', 'team_id': '9', 'name': 'Slaughterforce 5', 'url': 'https://basketball.fantasysports.yahoo.com/nba/95911/9', 'team_logos': [{'team_logo': {'size': 'large', 'url': 'https://s.yimg.com/cv/apiv2/default/nba/nba_3_s.png'}}], 'waiver_priority': 1, 'number_of_moves': '5', 'number_of_trades': '1', 'roster_adds': {'coverage_type': 'week', 'coverage_value': 5, 'value': '0'}, 'league_scoring_type': 'headpoint', 'draft_position': 8, 'has_draft_grade': 0, 'managers': [{'manager': {'manager_id': '9', 'nickname': 'Bobby', 'guid': 'TTK3EAIRYAEURIY2MQP7LMBT2M', 'email': '44bobkelly@gmail.com', 'image_url': 'https://s.yimg.com/ag/images/default_user_profile_pic_64sq.jpg', 'felo_score': '578', 'felo_tier': 'bronze'}}]}\n",
      "{'team_key': '410.l.95911.t.3', 'team_id': '3', 'name': 'Sabonis My Life Is A Jokeis', 'url': 'https://basketball.fantasysports.yahoo.com/nba/95911/3', 'team_logos': [{'team_logo': {'size': 'large', 'url': 'https://yahoofantasysports-res.cloudinary.com/image/upload/t_s192sq/fantasy-logos/ee861e0145cb0c99d94efb98d5127440b67779a1ccb15bb62c41bfed4f4acde7.png'}}], 'waiver_priority': 2, 'number_of_moves': '3', 'number_of_trades': 0, 'roster_adds': {'coverage_type': 'week', 'coverage_value': 5, 'value': '0'}, 'league_scoring_type': 'headpoint', 'draft_position': 7, 'has_draft_grade': 0, 'managers': [{'manager': {'manager_id': '3', 'nickname': 'Marco', 'guid': 'OS7BFACW5WFJ45BMKZJBSRNAXQ', 'email': 'maugello99@gmail.com', 'image_url': 'https://s.yimg.com/ag/images/default_user_profile_pic_64sq.jpg', 'felo_score': '642', 'felo_tier': 'silver'}}]}\n"
     ]
    }
   ],
   "source": [
    "for key in lg.teams():\n",
    "    print(lg.teams()[key])"
   ]
  },
  {
   "cell_type": "code",
   "execution_count": null,
   "metadata": {},
   "outputs": [],
   "source": []
  }
 ],
 "metadata": {
  "interpreter": {
   "hash": "f1ee11e721434ae39bb8f5090f873406a6f1ee3b6aae3d2de8d676f3f04ef6b0"
  },
  "kernelspec": {
   "display_name": "Python 3.8.8 64-bit ('base': conda)",
   "name": "python3"
  },
  "language_info": {
   "codemirror_mode": {
    "name": "ipython",
    "version": 3
   },
   "file_extension": ".py",
   "mimetype": "text/x-python",
   "name": "python",
   "nbconvert_exporter": "python",
   "pygments_lexer": "ipython3",
   "version": "3.8.8"
  },
  "orig_nbformat": 4
 },
 "nbformat": 4,
 "nbformat_minor": 2
}
