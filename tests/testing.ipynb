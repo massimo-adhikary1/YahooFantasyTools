{
 "cells": [
  {
   "cell_type": "code",
   "execution_count": 3,
   "source": [
    "import pandas as pd\r\n",
    "from yahoo_oauth import OAuth2\r\n",
    "import yahoo_fantasy_api as yfa\r\n",
    "import yfpy\r\n",
    "from pathlib import Path\r\n",
    "creds = Path('C:/Users/massi/Projects/FantasyBot/creds.json')\r\n",
    "sc = OAuth2(None,None,from_file = creds)"
   ],
   "outputs": [],
   "metadata": {}
  },
  {
   "cell_type": "code",
   "execution_count": 2,
   "source": [],
   "outputs": [],
   "metadata": {}
  },
  {
   "cell_type": "code",
   "execution_count": null,
   "source": [],
   "outputs": [],
   "metadata": {}
  }
 ],
 "metadata": {
  "orig_nbformat": 4,
  "language_info": {
   "name": "python",
   "version": "3.8.8",
   "mimetype": "text/x-python",
   "codemirror_mode": {
    "name": "ipython",
    "version": 3
   },
   "pygments_lexer": "ipython3",
   "nbconvert_exporter": "python",
   "file_extension": ".py"
  },
  "kernelspec": {
   "name": "python3",
   "display_name": "Python 3.8.8 64-bit ('base': conda)"
  },
  "interpreter": {
   "hash": "f1ee11e721434ae39bb8f5090f873406a6f1ee3b6aae3d2de8d676f3f04ef6b0"
  }
 },
 "nbformat": 4,
 "nbformat_minor": 2
}